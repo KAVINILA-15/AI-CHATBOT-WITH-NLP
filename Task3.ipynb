import nltk
import random
import string
import warnings
from nltk.chat.util import Chat, reflections

warnings.filterwarnings("ignore")

nltk.download('punkt')
nltk.download('wordnet')

pairs = [
    [
        r"hi|hello|hey",
        ["Hello!", "Hi there!", "Hey! How can I help you today?"]
    ],
    [
        r"what is your name?",
        ["I am your AI chatbot.", "You can call me ChatBuddy!"]
    ],
    [
        r"how are you?",
        ["I'm doing great, thanks for asking!", "I'm just a bot, but I'm functioning well!"]
    ],
    [
        r"what can you do?",
        ["I can answer your questions and chat with you using NLP!", "I'm here to assist you. Just ask!"]
    ],
    [
        r"who created you?",
        ["I was created by a developer as part of an internship project using Python and NLTK."]
    ],
    [
        r"bye|exit|quit",
        ["Goodbye!", "See you later!", "Bye! Have a great day!"]
    ],
    [
        r"(.*)",
        ["Sorry, I didn't understand that. Can you rephrase?", "I'm still learning. Try asking something else."]
    ]
]

def chatbot():
    print("🤖 ChatBot: Hello! Type 'bye' to exit.")
    chat = Chat(pairs, reflections)
    chat.converse()

if __name__ == "__main__":
    chatbot()
